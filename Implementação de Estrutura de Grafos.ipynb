{
 "cells": [
  {
   "cell_type": "markdown",
   "metadata": {},
   "source": [
    "# Implementation of a graph structure"
   ]
  },
  {
   "cell_type": "code",
   "execution_count": 18,
   "metadata": {},
   "outputs": [],
   "source": [
    "from random import randint"
   ]
  },
  {
   "cell_type": "code",
   "execution_count": 93,
   "metadata": {},
   "outputs": [],
   "source": [
    "class Graph:\n",
    "    \n",
    "    def __init__(self, nodes, edges = [], oriented = False):\n",
    "        \n",
    "        # Initialise attributes\n",
    "        self.nodes = nodes\n",
    "        self.edges = edges\n",
    "        self.oriented = oriented\n",
    "        self.incidence_matrix = self.build_incidence_matrix(nodes, edges, oriented)\n",
    "        \n",
    "        \n",
    "    def build_incidence_matrix(self, nodes, edges = [], oriented = False):\n",
    "        # Create incidence matrix\n",
    "        incidence_matrix = [ [0] * len(nodes) for n in range(len(edges))]\n",
    "\n",
    "        for edge in edges:\n",
    "            if (nodes.index(edge[0]) == nodes.index(edge[1])):\n",
    "                incidence_matrix[ edges.index(edge) ] [ nodes.index(edge[0])] = 2\n",
    "\n",
    "            else:\n",
    "                if oriented:\n",
    "                    incidence_matrix[ edges.index(edge) ] [ nodes.index(edge[0])] = -1\n",
    "                    incidence_matrix[ edges.index(edge) ] [ nodes.index(edge[1])] = 1\n",
    "                else:\n",
    "                    incidence_matrix[ edges.index(edge) ] [ nodes.index(edge[0])] = 1\n",
    "                    incidence_matrix[ edges.index(edge) ] [ nodes.index(edge[1])] = 1\n",
    "                    \n",
    "        return incidence_matrix\n",
    "        \n",
    "    def addNode(self, new_node):\n",
    "        if new_node in self.nodes:\n",
    "            print(\"This node already exists\")\n",
    "        else:\n",
    "            self.nodes.append(new_node)\n",
    "            for edge in self.incidence_matrix:\n",
    "                edge.append(0)\n",
    "        \n",
    "    \n",
    "    def removeNode(self, node):\n",
    "        if node in self.nodes:\n",
    "            valid_edges = []\n",
    "            for edge in self.edges:\n",
    "                if not node in edge:\n",
    "                    valid_edges.append(edge)\n",
    "            self.nodes.remove(node)\n",
    "            self.edges = valid_edges\n",
    "            self.incidence_matrix = self.build_incidence_matrix(self.nodes, self.edges, self.oriented)\n",
    "        else:\n",
    "            print(\"This node does not exist\")\n",
    "        \n",
    "    def connect(self, v1, v2):\n",
    "        new_edge = (v1, v2)\n",
    "        if new_edge in self.edges:\n",
    "            print(\"This edge already exists\")\n",
    "        else:\n",
    "            self.edges.append(new_edge)\n",
    "\n",
    "            edge = [0] * len(self.nodes)\n",
    "            if (self.nodes.index(new_edge[0]) == self.nodes.index(new_edge[1])):\n",
    "                edge[ self.nodes.index(new_edge[0])] = 2\n",
    "\n",
    "            else:\n",
    "                if self.oriented:\n",
    "                    edge[ self.nodes.index(new_edge[0])] = -1\n",
    "                    edge[ self.nodes.index(new_edge[1])] = 1\n",
    "                else:\n",
    "                    edge[ self.nodes.index(new_edge[0])] = 1\n",
    "                    edge[ self.nodes.index(new_edge[1])] = 1\n",
    "\n",
    "            self.incidence_matrix.append(edge)\n",
    "    \n",
    "    def disconnect(self, v1, v2):\n",
    "        edge = (v1, v2)\n",
    "        if edge in self.edges:\n",
    "            e = [0] * len(self.nodes)\n",
    "            if (self.nodes.index(edge[0]) == self.nodes.index(edge[1])):\n",
    "                e[ self.nodes.index(edge[0])] = 2\n",
    "\n",
    "            else:\n",
    "                if self.oriented:\n",
    "                    e[ self.nodes.index(edge[0])] = -1\n",
    "                    e[ self.nodes.index(edge[1])] = 1\n",
    "                else:\n",
    "                    e[ self.nodes.index(edge[0])] = 1\n",
    "                    e[ self.nodes.index(edge[1])] = 1\n",
    "                    \n",
    "            self.incidence_matrix.remove(e)\n",
    "            self.edges.remove(edge)\n",
    "        else:\n",
    "            print(\"This edge does not exist\")\n",
    "            \n",
    "    def order(self):\n",
    "        return len(self.nodes)\n",
    "    \n",
    "    def randomNode(self):\n",
    "        return self.nodes[randint(0,self.order()-1)]\n",
    "    \n",
    "    def adjancentNodes(self, node):\n",
    "\n",
    "        if node in self.nodes:\n",
    "            adjacent_nodes = []\n",
    "            for edge in self.edges:\n",
    "                if node in edge:\n",
    "                    if self.oriented:\n",
    "                        if ((node == edge[0]) & (edge[1] not in adjacent_nodes)):\n",
    "                            adjacent_nodes.append(edge[1])\n",
    "                    elif edge[abs(edge.index(node)-1)] not in adjacent_nodes:\n",
    "                        adjacent_nodes.append(edge[abs(edge.index(node)-1)])\n",
    "                        \n",
    "            return adjacent_nodes\n",
    "        else:\n",
    "            print(\"This node does not exist\")\n",
    "            \n",
    "    def degree(self, node):\n",
    "        if node in self.nodes:\n",
    "            return len(self.adjancentNodes(node))\n",
    "        else:\n",
    "            print(\"This node does not exist\")\n",
    "            "
   ]
  },
  {
   "cell_type": "code",
   "execution_count": 94,
   "metadata": {},
   "outputs": [
    {
     "data": {
      "text/plain": [
       "[[-1, 1, 0], [0, 2, 0], [-1, 0, 1], [2, 0, 0]]"
      ]
     },
     "execution_count": 94,
     "metadata": {},
     "output_type": "execute_result"
    }
   ],
   "source": [
    "g = Graph(['a', 'b', 'c'], [('a','b'), ('b','b'), ('a','c'), ('a','a')], oriented = True)\n",
    "g.nodes\n",
    "\n",
    "\n",
    "g.incidence_matrix"
   ]
  },
  {
   "cell_type": "code",
   "execution_count": 21,
   "metadata": {},
   "outputs": [
    {
     "name": "stdout",
     "output_type": "stream",
     "text": [
      "[[-1, 1, 0], [0, 2, 0], [-1, 0, 1], [2, 0, 0], [1, 0, -1]]\n"
     ]
    }
   ],
   "source": [
    "g.connect('c', 'a')\n",
    "print(g.incidence_matrix)"
   ]
  },
  {
   "cell_type": "code",
   "execution_count": 22,
   "metadata": {},
   "outputs": [
    {
     "name": "stdout",
     "output_type": "stream",
     "text": [
      "[[-1, 1, 0], [0, 2, 0], [-1, 0, 1], [2, 0, 0]]\n",
      "[('a', 'b'), ('b', 'b'), ('a', 'c'), ('a', 'a')]\n"
     ]
    }
   ],
   "source": [
    "g.disconnect('c', 'a')\n",
    "print(g.incidence_matrix)\n",
    "print(g.edges)"
   ]
  },
  {
   "cell_type": "code",
   "execution_count": 23,
   "metadata": {},
   "outputs": [
    {
     "name": "stdout",
     "output_type": "stream",
     "text": [
      "['a', 'b', 'c', 'd']\n",
      "[[-1, 1, 0, 0], [0, 2, 0, 0], [-1, 0, 1, 0], [2, 0, 0, 0]]\n"
     ]
    }
   ],
   "source": [
    "g.addNode('d')\n",
    "print(g.nodes)\n",
    "print(g.incidence_matrix)"
   ]
  },
  {
   "cell_type": "code",
   "execution_count": 24,
   "metadata": {},
   "outputs": [
    {
     "name": "stdout",
     "output_type": "stream",
     "text": [
      "['a', 'b', 'c', 'd']\n",
      "[[-1, 1, 0, 0], [0, 2, 0, 0], [-1, 0, 1, 0], [2, 0, 0, 0]]\n",
      "['a', 'b', 'd']\n",
      "[[-1, 1, 0], [0, 2, 0], [2, 0, 0]]\n"
     ]
    }
   ],
   "source": [
    "print(g.nodes)\n",
    "print(g.incidence_matrix)\n",
    "g.removeNode('c')\n",
    "print(g.nodes)\n",
    "print(g.incidence_matrix)"
   ]
  },
  {
   "cell_type": "code",
   "execution_count": 45,
   "metadata": {},
   "outputs": [],
   "source": [
    "x = ('a','b')"
   ]
  },
  {
   "cell_type": "code",
   "execution_count": 47,
   "metadata": {},
   "outputs": [
    {
     "data": {
      "text/plain": [
       "1"
      ]
     },
     "execution_count": 47,
     "metadata": {},
     "output_type": "execute_result"
    }
   ],
   "source": [
    "x.index('b')"
   ]
  },
  {
   "cell_type": "code",
   "execution_count": 91,
   "metadata": {},
   "outputs": [
    {
     "data": {
      "text/plain": [
       "['b', 'c', 'a']"
      ]
     },
     "execution_count": 91,
     "metadata": {},
     "output_type": "execute_result"
    }
   ],
   "source": [
    "g.adjancentNodes('a')"
   ]
  },
  {
   "cell_type": "code",
   "execution_count": 97,
   "metadata": {},
   "outputs": [
    {
     "data": {
      "text/plain": [
       "1"
      ]
     },
     "execution_count": 97,
     "metadata": {},
     "output_type": "execute_result"
    }
   ],
   "source": [
    "g.degree('b')"
   ]
  },
  {
   "cell_type": "code",
   "execution_count": null,
   "metadata": {},
   "outputs": [],
   "source": []
  }
 ],
 "metadata": {
  "kernelspec": {
   "display_name": "Python 3",
   "language": "python",
   "name": "python3"
  },
  "language_info": {
   "codemirror_mode": {
    "name": "ipython",
    "version": 3
   },
   "file_extension": ".py",
   "mimetype": "text/x-python",
   "name": "python",
   "nbconvert_exporter": "python",
   "pygments_lexer": "ipython3",
   "version": "3.6.4"
  }
 },
 "nbformat": 4,
 "nbformat_minor": 2
}
