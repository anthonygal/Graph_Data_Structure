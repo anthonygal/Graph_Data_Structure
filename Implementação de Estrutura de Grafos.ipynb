{
 "cells": [
  {
   "cell_type": "markdown",
   "metadata": {},
   "source": [
    "# Implementation of a graph structure"
   ]
  },
  {
   "cell_type": "code",
   "execution_count": 37,
   "metadata": {},
   "outputs": [],
   "source": [
    "import numpy as np"
   ]
  },
  {
   "cell_type": "code",
   "execution_count": 67,
   "metadata": {},
   "outputs": [],
   "source": [
    "class Graph:\n",
    "    \n",
    "    def __init__(self, nodes, vertices = [], oriented = False):\n",
    "        \n",
    "        # Initialise attributes\n",
    "        self.nodes = nodes\n",
    "        self.vertices = vertices\n",
    "        self.oriented = oriented\n",
    "        \n",
    "        # Create incidence matrix\n",
    "        incidence_matrix = [ [0] * len(nodes) for n in range(len(vertices))]\n",
    "        if not oriented:\n",
    "            for vertice in vertices:\n",
    "                incidence_matrix[ vertices.index(vertice) ] [ nodes.index(vertice[0])] = 1\n",
    "                incidence_matrix[ vertices.index(vertice) ] [ nodes.index(vertice[1])] = 1   \n",
    "                \n",
    "        self.incidence_matrix = incidence_matrix \n",
    "            "
   ]
  },
  {
   "cell_type": "code",
   "execution_count": 71,
   "metadata": {},
   "outputs": [
    {
     "data": {
      "text/plain": [
       "[[1, 1, 0], [1, 0, 1], [1, 0, 0], [0, 1, 1]]"
      ]
     },
     "execution_count": 71,
     "metadata": {},
     "output_type": "execute_result"
    }
   ],
   "source": [
    "g = Graph(['a', 'b', 'c'], [('a','b'),('a','c'), ('a','a'),('c','b')])\n",
    "g.nodes\n",
    "#g = Graph(['a', 'b', 'c'])\n",
    "\n",
    "g.incidence_matrix"
   ]
  },
  {
   "cell_type": "code",
   "execution_count": 69,
   "metadata": {},
   "outputs": [],
   "source": [
    "x = [('a','b'),('a','c'), ('a','a'),('c','b')]"
   ]
  },
  {
   "cell_type": "code",
   "execution_count": 70,
   "metadata": {},
   "outputs": [
    {
     "data": {
      "text/plain": [
       "tuple"
      ]
     },
     "execution_count": 70,
     "metadata": {},
     "output_type": "execute_result"
    }
   ],
   "source": [
    "type(x[0])"
   ]
  },
  {
   "cell_type": "code",
   "execution_count": null,
   "metadata": {},
   "outputs": [],
   "source": []
  }
 ],
 "metadata": {
  "kernelspec": {
   "display_name": "Python 3",
   "language": "python",
   "name": "python3"
  },
  "language_info": {
   "codemirror_mode": {
    "name": "ipython",
    "version": 3
   },
   "file_extension": ".py",
   "mimetype": "text/x-python",
   "name": "python",
   "nbconvert_exporter": "python",
   "pygments_lexer": "ipython3",
   "version": "3.6.4"
  }
 },
 "nbformat": 4,
 "nbformat_minor": 2
}
