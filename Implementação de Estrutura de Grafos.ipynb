{
 "cells": [
  {
   "cell_type": "markdown",
   "metadata": {},
   "source": [
    "# Implementation of a graph structure"
   ]
  },
  {
   "cell_type": "code",
   "execution_count": 33,
   "metadata": {},
   "outputs": [],
   "source": [
    "from random import randint"
   ]
  },
  {
   "cell_type": "code",
   "execution_count": 70,
   "metadata": {},
   "outputs": [],
   "source": [
    "class Node:\n",
    "    \n",
    "    def __init__(self, ID, mark = False):\n",
    "        \n",
    "        self.ID = ID\n",
    "        self.mark = mark\n",
    "\n",
    "        \n",
    "class Edge:\n",
    "    \n",
    "    def __init__(self, node1, node2, mark = False):\n",
    "        \n",
    "        self.node1 = node1\n",
    "        self.node2 = node2\n",
    "        self.mark = mark\n",
    "    \n",
    "    def __getitem__(self, key):\n",
    "        \n",
    "        if (key == 0):\n",
    "            return self.node1\n",
    "        elif (key == 1):\n",
    "            return self.node2\n",
    "        \n",
    "\n",
    "class Graph:\n",
    "    \n",
    "    def __init__(self, node_list, edge_list = [], oriented = False):\n",
    "        \n",
    "        node_objects = []\n",
    "        for node in node_list:\n",
    "            node_objects.append(Node(node))\n",
    "        \n",
    "        edge_objects = []\n",
    "        for edge in edge_list:\n",
    "            for node in node_objects:\n",
    "                if(edge[0] == node.ID):\n",
    "                    node1 = node\n",
    "                if(edge[1] == node.ID):\n",
    "                    node2 = node\n",
    "            edge_objects.append( Edge(node1, node2) )\n",
    "        \n",
    "        # Initialise attributes\n",
    "        self.nodes = node_objects\n",
    "        self.edges = edge_objects\n",
    "        self.oriented = oriented\n",
    "        self.incidence_matrix = self.build_incidence_matrix(node_objects, edge_objects, oriented)\n",
    "        \n",
    "        \n",
    "    def build_incidence_matrix(self, nodes, edges = [], oriented = False):\n",
    "        # Create incidence matrix\n",
    "        incidence_matrix = [ [0] * len(nodes) for n in range(len(edges))]\n",
    "\n",
    "        for edge in edges:\n",
    "            if (nodes.index(edge[0]) == nodes.index(edge[1])):\n",
    "                incidence_matrix[ edges.index(edge) ] [ nodes.index(edge[0])] = 2\n",
    "\n",
    "            else:\n",
    "                if oriented:\n",
    "                    incidence_matrix[ edges.index(edge) ] [ nodes.index(edge[0])] = -1\n",
    "                    incidence_matrix[ edges.index(edge) ] [ nodes.index(edge[1])] = 1\n",
    "                else:\n",
    "                    incidence_matrix[ edges.index(edge) ] [ nodes.index(edge[0])] = 1\n",
    "                    incidence_matrix[ edges.index(edge) ] [ nodes.index(edge[1])] = 1\n",
    "                    \n",
    "        return incidence_matrix\n",
    "    \n",
    "    def getNode(self, ID):\n",
    "        for node in self.nodes:\n",
    "            if node.ID == ID:\n",
    "                return node\n",
    "    \n",
    "    def getEdge(self, ID1, ID2):\n",
    "        for edge in self.edges:\n",
    "            print(edge[0])\n",
    "            if ( (edge[0].ID == ID1 ) & (edge[1].ID == ID2)):\n",
    "                return edge\n",
    "    \n",
    "    def addNode(self, new_node):\n",
    "        if new_node in self.nodes:\n",
    "            print(\"This node already exists\")\n",
    "        else:\n",
    "            self.nodes.append(new_node)\n",
    "            for edge in self.incidence_matrix:\n",
    "                edge.append(0)\n",
    "        \n",
    "    \n",
    "    def removeNode(self, node):\n",
    "        if node in self.nodes:\n",
    "            valid_edges = []\n",
    "            for edge in self.edges:\n",
    "                if not node in edge:\n",
    "                    valid_edges.append(edge)\n",
    "            self.nodes.remove(node)\n",
    "            self.edges = valid_edges\n",
    "            self.incidence_matrix = self.build_incidence_matrix(self.nodes, self.edges, self.oriented)\n",
    "        else:\n",
    "            print(\"This node does not exist\")\n",
    "        \n",
    "    def connect(self, v1, v2):\n",
    "        new_edge = Edge(v1, v2)\n",
    "        if self.getEdge(v1, v2):\n",
    "            print(\"This edge already exists\")\n",
    "        else:\n",
    "            self.edges.append(new_edge)\n",
    "\n",
    "            edge = [0] * len(self.nodes)\n",
    "            if (self.nodes.index(self.getNode(new_edge[0])) == self.nodes.index(self.getNode(new_edge[1]))):\n",
    "                edge[ self.nodes.index(self.getNode(new_edge[0]))] = 2\n",
    "\n",
    "            else:\n",
    "                if self.oriented:\n",
    "                    edge[ self.nodes.index(self.getNode(new_edge[0]))] = -1\n",
    "                    edge[ self.nodes.index(self.getNode(new_edge[1]))] = 1\n",
    "                else:\n",
    "                    edge[ self.nodes.index(self.getNode(new_edge[0]))] = 1\n",
    "                    edge[ self.nodes.index(self.getNode(new_edge[1]))] = 1\n",
    "\n",
    "            self.incidence_matrix.append(edge)\n",
    "    \n",
    "    def disconnect(self, v1, v2):\n",
    "        edge = self.getEdge(v1, v2)\n",
    "        if edge in self.edges:\n",
    "            e = [0] * len(self.nodes)\n",
    "            if (self.nodes.index(self.getNode(edge[0])) == self.nodes.index(self.getNode(edge[1]))):\n",
    "                e[ self.nodes.index(self.getNode(edge[0]))] = 2\n",
    "\n",
    "            else:\n",
    "                if self.oriented:\n",
    "                    e[ self.nodes.index(self.getNode(edge[0]))] = -1\n",
    "                    e[ self.nodes.index(self.getNode(edge[1]))] = 1\n",
    "                else:\n",
    "                    e[ self.nodes.index(self.getNode(edge[0]))] = 1\n",
    "                    e[ self.nodes.index(self.getNode(edge[1]))] = 1\n",
    "                    \n",
    "            self.incidence_matrix.remove(e)\n",
    "            self.edges.remove(edge)\n",
    "        else:\n",
    "            print(\"This edge does not exist\")\n",
    "            \n",
    "    def order(self):\n",
    "        return len(self.nodes)\n",
    "    \n",
    "    def randomNode(self):\n",
    "        return self.nodes[randint(0,self.order()-1)]\n",
    "    \n",
    "    def adjancentNodes(self, node):\n",
    "\n",
    "        if node in self.nodes:\n",
    "            adjacent_nodes = []\n",
    "            for edge in self.edges:\n",
    "                if node in edge:\n",
    "                    if self.oriented:\n",
    "                        if ((node == edge[0]) & (edge[1] not in adjacent_nodes)):\n",
    "                            adjacent_nodes.append(edge[1])\n",
    "                    elif edge[abs(edge.index(node)-1)] not in adjacent_nodes:\n",
    "                        adjacent_nodes.append(edge[abs(edge.index(node)-1)])\n",
    "                        \n",
    "            return adjacent_nodes\n",
    "        else:\n",
    "            print(\"This node does not exist\")\n",
    "            \n",
    "    def degree(self, node):\n",
    "        if node in self.nodes:\n",
    "            return len(self.adjancentNodes(node))\n",
    "        else:\n",
    "            print(\"This node does not exist\")\n",
    "            "
   ]
  },
  {
   "cell_type": "code",
   "execution_count": 71,
   "metadata": {},
   "outputs": [
    {
     "data": {
      "text/plain": [
       "[[-1, 1, 0], [0, 2, 0], [-1, 0, 1], [2, 0, 0]]"
      ]
     },
     "execution_count": 71,
     "metadata": {},
     "output_type": "execute_result"
    }
   ],
   "source": [
    "g = Graph(['a', 'b', 'c'], [('a','b'), ('b','b'), ('a','c'), ('a','a')], oriented = True)\n",
    "g.nodes\n",
    "\n",
    "\n",
    "g.incidence_matrix"
   ]
  },
  {
   "cell_type": "code",
   "execution_count": 72,
   "metadata": {},
   "outputs": [
    {
     "name": "stdout",
     "output_type": "stream",
     "text": [
      "<__main__.Node object at 0x7f13fc4bf4e0>\n",
      "<__main__.Node object at 0x7f13fc4bfe48>\n",
      "<__main__.Node object at 0x7f13fc4bf4e0>\n",
      "<__main__.Node object at 0x7f13fc4bf4e0>\n",
      "[[-1, 1, 0], [0, 2, 0], [-1, 0, 1], [2, 0, 0], [1, 0, -1]]\n"
     ]
    }
   ],
   "source": [
    "g.connect('c', 'a')\n",
    "print(g.incidence_matrix)"
   ]
  },
  {
   "cell_type": "code",
   "execution_count": 73,
   "metadata": {},
   "outputs": [
    {
     "name": "stdout",
     "output_type": "stream",
     "text": [
      "<__main__.Node object at 0x7f13fc4bf4e0>\n",
      "<__main__.Node object at 0x7f13fc4bfe48>\n",
      "<__main__.Node object at 0x7f13fc4bf4e0>\n",
      "<__main__.Node object at 0x7f13fc4bf4e0>\n",
      "c\n"
     ]
    },
    {
     "ename": "AttributeError",
     "evalue": "'str' object has no attribute 'ID'",
     "output_type": "error",
     "traceback": [
      "\u001b[0;31m---------------------------------------------------------------------------\u001b[0m",
      "\u001b[0;31mAttributeError\u001b[0m                            Traceback (most recent call last)",
      "\u001b[0;32m<ipython-input-73-4694f8c38295>\u001b[0m in \u001b[0;36m<module>\u001b[0;34m()\u001b[0m\n\u001b[0;32m----> 1\u001b[0;31m \u001b[0mg\u001b[0m\u001b[0;34m.\u001b[0m\u001b[0mdisconnect\u001b[0m\u001b[0;34m(\u001b[0m\u001b[0;34m'c'\u001b[0m\u001b[0;34m,\u001b[0m \u001b[0;34m'a'\u001b[0m\u001b[0;34m)\u001b[0m\u001b[0;34m\u001b[0m\u001b[0m\n\u001b[0m\u001b[1;32m      2\u001b[0m \u001b[0mprint\u001b[0m\u001b[0;34m(\u001b[0m\u001b[0mg\u001b[0m\u001b[0;34m.\u001b[0m\u001b[0mincidence_matrix\u001b[0m\u001b[0;34m)\u001b[0m\u001b[0;34m\u001b[0m\u001b[0m\n\u001b[1;32m      3\u001b[0m \u001b[0mprint\u001b[0m\u001b[0;34m(\u001b[0m\u001b[0mg\u001b[0m\u001b[0;34m.\u001b[0m\u001b[0medges\u001b[0m\u001b[0;34m)\u001b[0m\u001b[0;34m\u001b[0m\u001b[0m\n",
      "\u001b[0;32m<ipython-input-70-79d3b125d8fc>\u001b[0m in \u001b[0;36mdisconnect\u001b[0;34m(self, v1, v2)\u001b[0m\n\u001b[1;32m    119\u001b[0m \u001b[0;34m\u001b[0m\u001b[0m\n\u001b[1;32m    120\u001b[0m     \u001b[0;32mdef\u001b[0m \u001b[0mdisconnect\u001b[0m\u001b[0;34m(\u001b[0m\u001b[0mself\u001b[0m\u001b[0;34m,\u001b[0m \u001b[0mv1\u001b[0m\u001b[0;34m,\u001b[0m \u001b[0mv2\u001b[0m\u001b[0;34m)\u001b[0m\u001b[0;34m:\u001b[0m\u001b[0;34m\u001b[0m\u001b[0m\n\u001b[0;32m--> 121\u001b[0;31m         \u001b[0medge\u001b[0m \u001b[0;34m=\u001b[0m \u001b[0mself\u001b[0m\u001b[0;34m.\u001b[0m\u001b[0mgetEdge\u001b[0m\u001b[0;34m(\u001b[0m\u001b[0mv1\u001b[0m\u001b[0;34m,\u001b[0m \u001b[0mv2\u001b[0m\u001b[0;34m)\u001b[0m\u001b[0;34m\u001b[0m\u001b[0m\n\u001b[0m\u001b[1;32m    122\u001b[0m         \u001b[0;32mif\u001b[0m \u001b[0medge\u001b[0m \u001b[0;32min\u001b[0m \u001b[0mself\u001b[0m\u001b[0;34m.\u001b[0m\u001b[0medges\u001b[0m\u001b[0;34m:\u001b[0m\u001b[0;34m\u001b[0m\u001b[0m\n\u001b[1;32m    123\u001b[0m             \u001b[0me\u001b[0m \u001b[0;34m=\u001b[0m \u001b[0;34m[\u001b[0m\u001b[0;36m0\u001b[0m\u001b[0;34m]\u001b[0m \u001b[0;34m*\u001b[0m \u001b[0mlen\u001b[0m\u001b[0;34m(\u001b[0m\u001b[0mself\u001b[0m\u001b[0;34m.\u001b[0m\u001b[0mnodes\u001b[0m\u001b[0;34m)\u001b[0m\u001b[0;34m\u001b[0m\u001b[0m\n",
      "\u001b[0;32m<ipython-input-70-79d3b125d8fc>\u001b[0m in \u001b[0;36mgetEdge\u001b[0;34m(self, ID1, ID2)\u001b[0m\n\u001b[1;32m     73\u001b[0m         \u001b[0;32mfor\u001b[0m \u001b[0medge\u001b[0m \u001b[0;32min\u001b[0m \u001b[0mself\u001b[0m\u001b[0;34m.\u001b[0m\u001b[0medges\u001b[0m\u001b[0;34m:\u001b[0m\u001b[0;34m\u001b[0m\u001b[0m\n\u001b[1;32m     74\u001b[0m             \u001b[0mprint\u001b[0m\u001b[0;34m(\u001b[0m\u001b[0medge\u001b[0m\u001b[0;34m[\u001b[0m\u001b[0;36m0\u001b[0m\u001b[0;34m]\u001b[0m\u001b[0;34m)\u001b[0m\u001b[0;34m\u001b[0m\u001b[0m\n\u001b[0;32m---> 75\u001b[0;31m             \u001b[0;32mif\u001b[0m \u001b[0;34m(\u001b[0m \u001b[0;34m(\u001b[0m\u001b[0medge\u001b[0m\u001b[0;34m[\u001b[0m\u001b[0;36m0\u001b[0m\u001b[0;34m]\u001b[0m\u001b[0;34m.\u001b[0m\u001b[0mID\u001b[0m \u001b[0;34m==\u001b[0m \u001b[0mID1\u001b[0m \u001b[0;34m)\u001b[0m \u001b[0;34m&\u001b[0m \u001b[0;34m(\u001b[0m\u001b[0medge\u001b[0m\u001b[0;34m[\u001b[0m\u001b[0;36m1\u001b[0m\u001b[0;34m]\u001b[0m\u001b[0;34m.\u001b[0m\u001b[0mID\u001b[0m \u001b[0;34m==\u001b[0m \u001b[0mID2\u001b[0m\u001b[0;34m)\u001b[0m\u001b[0;34m)\u001b[0m\u001b[0;34m:\u001b[0m\u001b[0;34m\u001b[0m\u001b[0m\n\u001b[0m\u001b[1;32m     76\u001b[0m                 \u001b[0;32mreturn\u001b[0m \u001b[0medge\u001b[0m\u001b[0;34m\u001b[0m\u001b[0m\n\u001b[1;32m     77\u001b[0m \u001b[0;34m\u001b[0m\u001b[0m\n",
      "\u001b[0;31mAttributeError\u001b[0m: 'str' object has no attribute 'ID'"
     ]
    }
   ],
   "source": [
    "g.disconnect('c', 'a')\n",
    "print(g.incidence_matrix)\n",
    "print(g.edges)"
   ]
  },
  {
   "cell_type": "code",
   "execution_count": 23,
   "metadata": {},
   "outputs": [
    {
     "name": "stdout",
     "output_type": "stream",
     "text": [
      "['a', 'b', 'c', 'd']\n",
      "[[-1, 1, 0, 0], [0, 2, 0, 0], [-1, 0, 1, 0], [2, 0, 0, 0]]\n"
     ]
    }
   ],
   "source": [
    "g.addNode('d')\n",
    "print(g.nodes)\n",
    "print(g.incidence_matrix)"
   ]
  },
  {
   "cell_type": "code",
   "execution_count": 24,
   "metadata": {},
   "outputs": [
    {
     "name": "stdout",
     "output_type": "stream",
     "text": [
      "['a', 'b', 'c', 'd']\n",
      "[[-1, 1, 0, 0], [0, 2, 0, 0], [-1, 0, 1, 0], [2, 0, 0, 0]]\n",
      "['a', 'b', 'd']\n",
      "[[-1, 1, 0], [0, 2, 0], [2, 0, 0]]\n"
     ]
    }
   ],
   "source": [
    "print(g.nodes)\n",
    "print(g.incidence_matrix)\n",
    "g.removeNode('c')\n",
    "print(g.nodes)\n",
    "print(g.incidence_matrix)"
   ]
  },
  {
   "cell_type": "code",
   "execution_count": 45,
   "metadata": {},
   "outputs": [],
   "source": [
    "x = ('a','b')"
   ]
  },
  {
   "cell_type": "code",
   "execution_count": 47,
   "metadata": {},
   "outputs": [
    {
     "data": {
      "text/plain": [
       "1"
      ]
     },
     "execution_count": 47,
     "metadata": {},
     "output_type": "execute_result"
    }
   ],
   "source": [
    "x.index('b')"
   ]
  },
  {
   "cell_type": "code",
   "execution_count": 91,
   "metadata": {},
   "outputs": [
    {
     "data": {
      "text/plain": [
       "['b', 'c', 'a']"
      ]
     },
     "execution_count": 91,
     "metadata": {},
     "output_type": "execute_result"
    }
   ],
   "source": [
    "g.adjancentNodes('a')"
   ]
  },
  {
   "cell_type": "code",
   "execution_count": 97,
   "metadata": {},
   "outputs": [
    {
     "data": {
      "text/plain": [
       "1"
      ]
     },
     "execution_count": 97,
     "metadata": {},
     "output_type": "execute_result"
    }
   ],
   "source": [
    "g.degree('b')"
   ]
  },
  {
   "cell_type": "code",
   "execution_count": null,
   "metadata": {},
   "outputs": [],
   "source": []
  },
  {
   "cell_type": "code",
   "execution_count": null,
   "metadata": {},
   "outputs": [],
   "source": []
  },
  {
   "cell_type": "code",
   "execution_count": 31,
   "metadata": {},
   "outputs": [],
   "source": [
    "node_list = ['a', 'b', 'c']\n",
    "node_objects = []\n",
    "for node in node_list:\n",
    "    node_objects.append(Node(node))\n",
    "\n",
    "edge_list = [('a','b'), ('b','b'), ('a','c'), ('a','a')]\n",
    "edge_objects = []\n",
    "for edge in edge_list:\n",
    "    for node in node_objects:\n",
    "        if(edge[0] == node.ID):\n",
    "            node1 = node\n",
    "        if(edge[1] == node.ID):\n",
    "            node2 = node\n",
    "    edge_objects.append( Edge(node1, node2) )"
   ]
  },
  {
   "cell_type": "code",
   "execution_count": 32,
   "metadata": {},
   "outputs": [
    {
     "data": {
      "text/plain": [
       "[<__main__.Edge at 0x7f13fc4a7710>,\n",
       " <__main__.Edge at 0x7f13fc4a7be0>,\n",
       " <__main__.Edge at 0x7f13fc4a7208>,\n",
       " <__main__.Edge at 0x7f13fc4a7668>]"
      ]
     },
     "execution_count": 32,
     "metadata": {},
     "output_type": "execute_result"
    }
   ],
   "source": [
    "edge_objects"
   ]
  },
  {
   "cell_type": "code",
   "execution_count": 74,
   "metadata": {},
   "outputs": [
    {
     "data": {
      "text/plain": [
       "[<__main__.Edge at 0x7f13fc4bf0f0>,\n",
       " <__main__.Edge at 0x7f13fc4bf358>,\n",
       " <__main__.Edge at 0x7f13fc4bfd30>,\n",
       " <__main__.Edge at 0x7f13fc4bf630>,\n",
       " <__main__.Edge at 0x7f13fc49b940>]"
      ]
     },
     "execution_count": 74,
     "metadata": {},
     "output_type": "execute_result"
    }
   ],
   "source": [
    "g.edges"
   ]
  },
  {
   "cell_type": "code",
   "execution_count": 75,
   "metadata": {},
   "outputs": [
    {
     "data": {
      "text/plain": [
       "('a', 'a')"
      ]
     },
     "execution_count": 75,
     "metadata": {},
     "output_type": "execute_result"
    }
   ],
   "source": []
  },
  {
   "cell_type": "code",
   "execution_count": null,
   "metadata": {},
   "outputs": [],
   "source": []
  }
 ],
 "metadata": {
  "kernelspec": {
   "display_name": "Python 3",
   "language": "python",
   "name": "python3"
  },
  "language_info": {
   "codemirror_mode": {
    "name": "ipython",
    "version": 3
   },
   "file_extension": ".py",
   "mimetype": "text/x-python",
   "name": "python",
   "nbconvert_exporter": "python",
   "pygments_lexer": "ipython3",
   "version": "3.6.4"
  }
 },
 "nbformat": 4,
 "nbformat_minor": 2
}
